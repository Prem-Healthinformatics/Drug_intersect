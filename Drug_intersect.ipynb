{
  "cells": [
    {
      "cell_type": "markdown",
      "metadata": {
        "id": "view-in-github",
        "colab_type": "text"
      },
      "source": [
        "<a href=\"https://colab.research.google.com/github/Prem-Healthinformatics/Drug_intersect/blob/main/Drug_intersect.ipynb\" target=\"_parent\"><img src=\"https://colab.research.google.com/assets/colab-badge.svg\" alt=\"Open In Colab\"/></a>"
      ]
    },
    {
      "cell_type": "code",
      "execution_count": 1,
      "metadata": {
        "id": "M_7XOk_gD4Zh"
      },
      "outputs": [],
      "source": [
        "import pandas as pd\n",
        "from sklearn.model_selection import train_test_split\n",
        "from sklearn.naive_bayes import MultinomialNB  # Using Naive Bayes for less memory consumption\n",
        "from sklearn.feature_extraction.text import TfidfVectorizer\n",
        "from sklearn.pipeline import make_pipeline\n",
        "from sklearn.metrics import accuracy_score\n",
        "import joblib"
      ]
    },
    {
      "cell_type": "code",
      "execution_count": 2,
      "metadata": {
        "id": "_aDWgrwXEF94"
      },
      "outputs": [],
      "source": [
        "medicine_details = pd.read_csv('/content/Medicine_Details.csv')  # Specify needed columns\n",
        "medical_intelligence = pd.read_csv('/content/Medical_Intelligence_Dataset.csv')\n",
        "ai_chatbot = pd.read_csv('/content/ai-medical-chatbot.csv', nrows=10000)  # Consider using a smaller number"
      ]
    },
    {
      "cell_type": "code",
      "execution_count": 3,
      "metadata": {
        "id": "UAxVsQzuGz-J"
      },
      "outputs": [],
      "source": [
        "# Step 3: Data Preparation\n",
        "# Clean the datasets\n",
        "medicine_details.fillna('', inplace=True)\n",
        "medical_intelligence.fillna('', inplace=True)\n",
        "ai_chatbot.fillna('', inplace=True)\n",
        "\n",
        "# Prepare feature and target variables\n",
        "X = medical_intelligence['input']  # Features\n",
        "y = medical_intelligence['output']  # Target"
      ]
    },
    {
      "cell_type": "code",
      "execution_count": 4,
      "metadata": {
        "colab": {
          "base_uri": "https://localhost:8080/"
        },
        "id": "YvMiuKrcG3mq",
        "outputId": "cfc205b4-bccd-4a96-fb23-1f8ca83db43b"
      },
      "outputs": [
        {
          "output_type": "stream",
          "name": "stdout",
          "text": [
            "Model saved successfully!\n",
            "Model accuracy: 0.82%\n"
          ]
        }
      ],
      "source": [
        "# Step 4: Train the Model\n",
        "# Split the data into training and testing sets\n",
        "X_train, X_test, y_train, y_test = train_test_split(X, y, test_size=0.2, random_state=42)\n",
        "\n",
        "# Create a pipeline with TF-IDF and Naive Bayes\n",
        "model = make_pipeline(TfidfVectorizer(max_features=5000), MultinomialNB())  # Reduce max features\n",
        "\n",
        "# Train the model\n",
        "model.fit(X_train, y_train)\n",
        "\n",
        "# Save the trained model\n",
        "joblib.dump(model, 'medicine_recommendation_model.pkl')\n",
        "print(\"Model saved successfully!\")\n",
        "\n",
        "# Evaluate model accuracy\n",
        "y_pred = model.predict(X_test)\n",
        "accuracy = accuracy_score(y_test, y_pred)\n",
        "print(f\"Model accuracy: {accuracy * 100:.2f}%\")"
      ]
    },
    {
      "cell_type": "code",
      "execution_count": 5,
      "metadata": {
        "colab": {
          "base_uri": "https://localhost:8080/"
        },
        "id": "B7aKpM2rG7qz",
        "outputId": "3d434503-99a7-4188-a918-8213a8b242fd"
      },
      "outputs": [
        {
          "output_type": "stream",
          "name": "stdout",
          "text": [
            "Model loaded successfully!\n"
          ]
        }
      ],
      "source": [
        "# Step 5: Load the Model\n",
        "loaded_model = joblib.load('medicine_recommendation_model.pkl')\n",
        "print(\"Model loaded successfully!\")"
      ]
    },
    {
      "cell_type": "code",
      "execution_count": 6,
      "metadata": {
        "id": "H1qFEwi4G-7n"
      },
      "outputs": [],
      "source": [
        "# Step 6: Create Functions for Interaction\n",
        "def predict_medicine(symptoms):\n",
        "    \"\"\"Predict medicine based on symptoms.\"\"\"\n",
        "    prediction = loaded_model.predict([symptoms])\n",
        "    return prediction[0]\n",
        "\n",
        "def get_medicine_info(medicine):\n",
        "    \"\"\"Get uses and side effects of a given medicine.\"\"\"\n",
        "    medicine_info = medicine_details.loc[medicine_details['Medicine Name'] == medicine]\n",
        "    if not medicine_info.empty:\n",
        "        uses = medicine_info['Uses'].values[0]\n",
        "        side_effects = medicine_info['Side_effects'].values[0]\n",
        "        return uses, side_effects\n",
        "    return \"No information found.\", \"No side effects found.\"\n",
        "\n",
        "def recommend_alternatives(prescribed_medicine):\n",
        "    \"\"\"Recommend alternative medicines based on similar uses and fewer side effects.\"\"\"\n",
        "    # Get the uses and side effects of the prescribed medicine\n",
        "    prescribed_info = medicine_details[medicine_details['Medicine Name'] == prescribed_medicine]\n",
        "    if prescribed_info.empty:\n",
        "        return pd.DataFrame()  # Return empty dataframe if no info found\n",
        "\n",
        "    prescribed_uses = prescribed_info['Uses'].values[0].split(',')\n",
        "    prescribed_side_effects = prescribed_info['Side_effects'].values[0].split(',')\n",
        "\n",
        "    # Filter medicines with similar uses\n",
        "    def has_similar_use(row):\n",
        "        row_uses = row['Uses'].split(',')\n",
        "        return any(use in row_uses for use in prescribed_uses)\n",
        "\n",
        "    alternatives = medicine_details[medicine_details['Medicine Name'] != prescribed_medicine]\n",
        "    alternatives = alternatives[alternatives.apply(has_similar_use, axis=1)]\n",
        "\n",
        "    # Rank alternatives by fewer side effects\n",
        "    alternatives['Side_effect_count'] = alternatives['Side_effects'].apply(lambda x: len(x.split(',')))\n",
        "    prescribed_side_effect_count = len(prescribed_side_effects)\n",
        "\n",
        "    # Select alternatives with fewer or equal side effects\n",
        "    alternatives = alternatives[alternatives['Side_effect_count'] <= prescribed_side_effect_count]\n",
        "\n",
        "    # Sort by side effect count and limit the number of alternatives\n",
        "    alternatives = alternatives.sort_values(by='Side_effect_count').head(5)\n",
        "\n",
        "    # Drop the side effect count column before returning\n",
        "    return alternatives[['Medicine Name', 'Uses', 'Side_effects']]\n",
        "\n",
        "\n",
        "def get_side_effects(medicine):\n",
        "    \"\"\"Get side effects of a given medicine.\"\"\"\n",
        "    side_effects = medicine_details.loc[medicine_details['Medicine Name'] == medicine, 'Side_effects']\n",
        "    return side_effects.values[0] if not side_effects.empty else \"No side effects found.\"\n"
      ]
    },
    {
      "cell_type": "code",
      "execution_count": 7,
      "metadata": {
        "id": "vIvr7G1GHBtf"
      },
      "outputs": [],
      "source": [
        "# Step 7: Parallel Processing for User Input\n",
        "def handle_user_requests(user_input):\n",
        "    \"\"\"Handle user requests using parallel processing.\"\"\"\n",
        "    if user_input in medicine_details['Medicine Name'].values:\n",
        "        # User provided a medicine name\n",
        "        uses, side_effects = get_medicine_info(user_input)\n",
        "        alternatives = recommend_alternatives(user_input)\n",
        "        return f\"Uses: {uses}\\nSide Effects: {side_effects}\", alternatives\n",
        "    else:\n",
        "        # User provided symptoms\n",
        "        recommended_medicine = predict_medicine(user_input)\n",
        "        return f\"Recommended Medicine: {recommended_medicine}\", recommend_alternatives(recommended_medicine)\n"
      ]
    },
    {
      "cell_type": "code",
      "execution_count": 8,
      "metadata": {
        "colab": {
          "base_uri": "https://localhost:8080/"
        },
        "id": "TV_amn64HEni",
        "outputId": "53ebbfee-88ca-4682-c1a6-65b934f612b8"
      },
      "outputs": [
        {
          "output_type": "stream",
          "name": "stdout",
          "text": [
            "Enter a medicine name: Augmentin 625 Duo Tablet\n",
            "Information for Augmentin 625 Duo Tablet:\n",
            "Uses: Treatment of Bacterial infections\n",
            "Side Effects: Vomiting Nausea Diarrhea Mucocutaneous candidiasis\n",
            "Recommended Alternatives:\n",
            "\n",
            "- Medicine Name: Zenflox Suspension\n",
            "  Uses: Treatment of Bacterial infections\n",
            "  Side Effects: Nausea Headache Dizziness Itching Insomnia difficulty in sleeping Rash Genital itching Vaginal inflammation Phlebitis Injection site reactions pain swelling redness\n",
            "\n",
            "- Medicine Name: Zifi CV 100 Dry Syrup\n",
            "  Uses: Treatment of Bacterial infections\n",
            "  Side Effects: Nausea Diarrhea Stomach pain Indigestion Flatulence\n",
            "\n",
            "- Medicine Name: Zithrox 200 Readyuse Suspension\n",
            "  Uses: Treatment of Bacterial infections\n",
            "  Side Effects: Nausea Abdominal pain Diarrhea\n",
            "\n",
            "- Medicine Name: Ziprax 200 DT Tablet\n",
            "  Uses: Treatment of Bacterial infections\n",
            "  Side Effects: Nausea Stomach pain Indigestion Diarrhea\n",
            "\n",
            "- Medicine Name: Zostum O 100mg Dry Syrup\n",
            "  Uses: Treatment of Bacterial infections\n",
            "  Side Effects: Nausea Indigestion Stomach pain Diarrhea Headache\n"
          ]
        }
      ],
      "source": [
        "# Step 8: Collect User Inputs\n",
        "user_input = input(\"Enter a medicine name: \")\n",
        "\n",
        "# Step 9: Process Requests and Display Results\n",
        "response, alternatives = handle_user_requests(user_input)\n",
        "\n",
        "# Check if the input is a medicine name or symptoms\n",
        "if user_input in medicine_details['Medicine Name'].values:\n",
        "    print(f\"Information for {user_input}:\\n{response}\")\n",
        "else:\n",
        "    print(response)  # For symptoms, this will show the recommended medicine\n",
        "\n",
        "# Print recommended alternatives with clear headers\n",
        "print(\"Recommended Alternatives:\")\n",
        "if not alternatives.empty:\n",
        "    for index, row in alternatives.iterrows():\n",
        "        print(f\"\\n- Medicine Name: {row['Medicine Name']}\")\n",
        "        print(f\"  Uses: {row['Uses']}\")\n",
        "        print(f\"  Side Effects: {row['Side_effects']}\")\n",
        "else:\n",
        "    print(\"No alternatives found.\")\n"
      ]
    },
    {
      "cell_type": "code",
      "execution_count": 9,
      "metadata": {
        "id": "HkAb4fMK_7kM"
      },
      "outputs": [],
      "source": [
        "!git config --global user.name \"Prem_Healthinformatics\"\n",
        "!git config --global user.email \"Kumarprem192000@gmail.com\""
      ]
    },
    {
      "cell_type": "code",
      "execution_count": 9,
      "metadata": {
        "id": "XqW01GUnHG_s"
      },
      "outputs": [],
      "source": [
        "\n"
      ]
    },
    {
      "cell_type": "code",
      "execution_count": 9,
      "metadata": {
        "id": "eGfO6keml4AQ"
      },
      "outputs": [],
      "source": []
    }
  ],
  "metadata": {
    "accelerator": "TPU",
    "colab": {
      "gpuType": "V28",
      "provenance": [],
      "authorship_tag": "ABX9TyOLdoH7kAYI9w4ID8UsTaPc",
      "include_colab_link": true
    },
    "kernelspec": {
      "display_name": "Python 3",
      "name": "python3"
    },
    "language_info": {
      "name": "python"
    }
  },
  "nbformat": 4,
  "nbformat_minor": 0
}